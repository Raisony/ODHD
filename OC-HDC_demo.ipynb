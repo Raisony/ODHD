{
 "cells": [
  {
   "cell_type": "code",
   "execution_count": 1,
   "metadata": {},
   "outputs": [
    {
     "name": "stderr",
     "output_type": "stream",
     "text": [
      "C:\\ProgramData\\Anaconda3\\lib\\site-packages\\sklearn\\externals\\joblib\\__init__.py:15: FutureWarning: sklearn.externals.joblib is deprecated in 0.21 and will be removed in 0.23. Please import this functionality directly from joblib, which can be installed with: pip install joblib. If this warning is raised when loading pickled models, you may need to re-serialize those models with scikit-learn 0.21+.\n",
      "  warnings.warn(msg, category=FutureWarning)\n"
     ]
    }
   ],
   "source": [
    "import copy\n",
    "import math\n",
    "import time\n",
    "import scipy\n",
    "import pickle\n",
    "import random\n",
    "import numpy as np\n",
    "import pandas as pd\n",
    "import scipy.io as sio\n",
    "\n",
    "from sklearn import metrics\n",
    "from numpy import linalg as li\n",
    "from math import log, ceil, floor\n",
    "from sklearn.externals import joblib\n",
    "from os.path import dirname, join as pjoin\n",
    "from sklearn.model_selection import train_test_split\n",
    "from sklearn.metrics.pairwise import cosine_similarity\n",
    "from sklearn.metrics import average_precision_score, f1_score, roc_auc_score"
   ]
  },
  {
   "cell_type": "code",
   "execution_count": 2,
   "metadata": {},
   "outputs": [],
   "source": [
    "#load dataset\n",
    "def DataPreprocessing(dataset):\n",
    "    mat_fname = pjoin('./', dataset)\n",
    "    print('Loading', mat_fname)\n",
    "    mat_contents = sio.loadmat(mat_fname)\n",
    "    X, y = mat_contents['X'], mat_contents['y']\n",
    "    y = y.reshape(-1)\n",
    "    inliers, outliers = np.where(y == 0)[0], np.where(y == 1)[0]#     1 = outliers, 0 = inliers\n",
    "    print('inliers', inliers, 'outliers', outliers, len(inliers), 'inliers', len(outliers), 'outliers')\n",
    "    return X, y, inliers, outliers\n",
    "\n",
    "#Threshold selection algorithm in OC-HDC\n",
    "def thresholdSelection(x, a, b):\n",
    "    threshold = np.mean(x)*a - np.std(x)*b\n",
    "#     print('Threshold = ', threshold)\n",
    "    return threshold"
   ]
  },
  {
   "cell_type": "code",
   "execution_count": 3,
   "metadata": {},
   "outputs": [],
   "source": [
    "# HDC model\n",
    "def getlevelList(totalLevel, minimum, maximum):\n",
    "    levelList = []\n",
    "    length = maximum - minimum\n",
    "    gap = length / totalLevel\n",
    "    for level in range(totalLevel):\n",
    "        levelList.append(minimum + level*gap)\n",
    "    levelList.append(maximum)\n",
    "    return levelList\n",
    "\n",
    "def numToKey(value, levelList):\n",
    "    if (value == levelList[-1]):\n",
    "        return len(levelList)-2\n",
    "    upperIndex = len(levelList) - 1\n",
    "    lowerIndex = 0\n",
    "    keyIndex = 0\n",
    "    while (upperIndex > lowerIndex):\n",
    "        keyIndex = int((upperIndex + lowerIndex)/2)\n",
    "        if (levelList[keyIndex] <= value and levelList[keyIndex+1] > value):\n",
    "            return keyIndex\n",
    "        if (levelList[keyIndex] > value):\n",
    "            upperIndex = keyIndex\n",
    "            keyIndex = int((upperIndex + lowerIndex)/2)\n",
    "        else:\n",
    "            lowerIndex = keyIndex\n",
    "            keyIndex = int((upperIndex + lowerIndex)/2)\n",
    "    return keyIndex\n",
    "\n",
    "def checkVector(classHV, inputHV, threshold):\n",
    "    guess = 0\n",
    "#     confidence\n",
    "    confidence = associateSearch(classHV, inputHV)\n",
    "    if(confidence < threshold): guess = 1\n",
    "        \n",
    "    return guess, confidence\n",
    "\n",
    "def standardization(X, MAX, MIN):\n",
    "    t = MIN + (MAX - MIN)/2\n",
    "    print(MAX, MIN, t)\n",
    "    return (X - t)/np.abs((MAX - MIN)/2)\n",
    "\n",
    "def associateSearch(HV1, HV2):\n",
    "    return np.dot(HV1, HV2)/(li.norm(HV1) * li.norm(HV2) + 0.0)\n",
    "\n",
    "class HyperDimensionalComputing(object):\n",
    "    def __init__(self, dimension, totalLevel, datatype, buffer, threshold, bip, *string, cuda = False):\n",
    "        self.Q = totalLevel\n",
    "        self.dim = dimension\n",
    "        self.token = 0\n",
    "        self.buffer = buffer\n",
    "        self.datatype = datatype\n",
    "        self.threshold = threshold\n",
    "        self.levelVector = self.genLevelVector(self.Q, bip, self.dim)\n",
    "        self.levelList = getlevelList(totalLevel, self.buffer[0], self.buffer[1])\n",
    "        \n",
    "    def genBaseHVs(self, totalPos, baseVal, dimension):\n",
    "        D = dimension\n",
    "        baseHVs = dict()\n",
    "        indexVector = range(D)\n",
    "        change = int(D/2)\n",
    "        for level in range(totalPos):\n",
    "            name = level\n",
    "            base = np.full(D, baseVal)\n",
    "            toOne = np.random.permutation(indexVector)[:change]  \n",
    "            for index in toOne:\n",
    "                base[index] = 1\n",
    "            baseHVs[name] = copy.deepcopy(base)     \n",
    "        return baseHVs\n",
    "\n",
    "    def genLevelVector(self, totalLevel, baseVal, dimension):\n",
    "        D = dimension\n",
    "        levelHVs = dict()\n",
    "        indexVector = range(D)\n",
    "        nextLevel = int((D/2/totalLevel))\n",
    "        change = int(D/2)\n",
    "        for level in range(totalLevel):\n",
    "            name = level\n",
    "            if(level == 0):\n",
    "                base = np.full(D, baseVal)\n",
    "                toOne = np.random.permutation(indexVector)[:change]\n",
    "            else:\n",
    "                toOne = np.random.permutation(indexVector)[:nextLevel]\n",
    "            for index in toOne:\n",
    "                base[index] = base[index] * -1\n",
    "            levelHVs[name] = copy.deepcopy(base)\n",
    "        return levelHVs\n",
    "    \n",
    "    def genHV(self, Xtr, Xts):\n",
    "        HV_train, HV_test = [], []\n",
    "        for i in range(Xtr.shape[0]):\n",
    "            trainData = Xtr[i]\n",
    "            hdv1 = self.encoding(self.dim, trainData, self.levelVector)\n",
    "            HV_train.append(hdv1)\n",
    "        for i in range(Xts.shape[0]):\n",
    "            testData = Xts[i]\n",
    "            hdv2 = self.encoding(self.dim, testData, self.levelVector)\n",
    "            HV_test.append(hdv2)\n",
    "        return np.array(HV_train), np.array(HV_test)\n",
    "\n",
    "    def encoding(self, dimension, label, levelHVs):\n",
    "        HDVector = np.zeros(dimension, dtype = self.datatype)\n",
    "        key_cluster = []\n",
    "        for keyVal in range(len(label)):\n",
    "            key = numToKey(label[keyVal], self.levelList)\n",
    "            levelHV = levelHVs[key]\n",
    "            HDVector = HDVector + np.roll(levelHV, keyVal)\n",
    "            key_cluster.append(key)\n",
    "        return HDVector\n",
    "\n",
    "    def genClassHV(self, classHV, inputHVs):\n",
    "        #generate OC-HV\n",
    "        for i in range(len(inputHVs)):\n",
    "            classHV = classHV + np.array(inputHVs[i])\n",
    "        return classHV\n",
    "    \n",
    "    def fit(self, classHV, trainHV):\n",
    "        classHV_fit = copy.deepcopy(classHV)\n",
    "        fitting_result, prelimit = [], []\n",
    "        for index in range(trainHV.shape[0]):\n",
    "            fitting, conf = checkVector(classHV_fit, trainHV[index], 0)\n",
    "            fitting_result.append(fitting)\n",
    "            prelimit.append(conf)\n",
    "        if np.mean(fitting_result) != 0: print('ERROR')\n",
    "        return prelimit\n",
    "    \n",
    "    def reconfirm(self, classHV, trainHV, epoches, threshold, lr, a, b):\n",
    "        classHV_retrain = copy.deepcopy(classHV)\n",
    "        for epoch in range(epoches):\n",
    "            confidence = []\n",
    "            for i in range(trainHV.shape[0]):\n",
    "                _, conf = checkVector(classHV_retrain, trainHV[i], threshold)\n",
    "                confidence.append(conf)\n",
    "                if conf < threshold:\n",
    "                    classHV_retrain += trainHV[i]*lr\n",
    "            threshold = thresholdSelection(confidence, a, b)\n",
    "            print('epoch', epoch, 'mean distance', threshold)\n",
    "        return classHV_retrain, threshold\n",
    "\n",
    "    def predict(self, classHV, testHV, testLabel, threshold_predict):\n",
    "        guessList, confList = [], []\n",
    "        for index in range(testHV.shape[0]):\n",
    "            predict, conf = checkVector(classHV, testHV[index], threshold_predict)\n",
    "            guessList.append(predict)\n",
    "            confList.append(conf)\n",
    "        guessList = np.array(guessList)\n",
    "        accuracy = np.mean(guessList == testLabel)\n",
    "        return accuracy, guessList, confList"
   ]
  },
  {
   "cell_type": "code",
   "execution_count": 4,
   "metadata": {},
   "outputs": [
    {
     "name": "stdout",
     "output_type": "stream",
     "text": [
      "Loading ././Dataset/satimage-2.mat\n",
      "inliers [   0    1    2 ... 5729 5730 5731] outliers [5732 5733 5734 5735 5736 5737 5738 5739 5740 5741 5742 5743 5744 5745\n",
      " 5746 5747 5748 5749 5750 5751 5752 5753 5754 5755 5756 5757 5758 5759\n",
      " 5760 5761 5762 5763 5764 5765 5766 5767 5768 5769 5770 5771 5772 5773\n",
      " 5774 5775 5776 5777 5778 5779 5780 5781 5782 5783 5784 5785 5786 5787\n",
      " 5788 5789 5790 5791 5792 5793 5794 5795 5796 5797 5798 5799 5800 5801\n",
      " 5802] 5732 inliers 71 outliers\n",
      "139.0 29.0 84.0\n",
      "157.0 27.0 92.0\n"
     ]
    }
   ],
   "source": [
    "dataset = './Dataset/satimage-2.mat'\n",
    "X_set, y_set, inner, outer = DataPreprocessing(dataset)\n",
    "np.random.seed  = 5\n",
    "p = outer.tolist() + np.random.choice(inner, 3*len(outer), replace = 0).tolist()\n",
    "position = [x for x in inner if x not in p]\n",
    "Xtrain, Xtest, ytrain, ytest = X_set[position], X_set[p], y_set[position],  y_set[p]\n",
    "Xtrain = standardization(Xtrain, Xtrain.max(), Xtrain.min())\n",
    "Xtest  = standardization(Xtest,Xtest.max(), Xtest.min())"
   ]
  },
  {
   "cell_type": "code",
   "execution_count": 5,
   "metadata": {},
   "outputs": [
    {
     "name": "stdout",
     "output_type": "stream",
     "text": [
      "Encoding time 7.2196924686431885 training time 0.08177304267883301\n"
     ]
    }
   ],
   "source": [
    "dimension, totalLevel, datatype, buffer, threshold = 10000, 100, np.int64, [-1.0, 1.0], 0.9\n",
    "OCHDC = HyperDimensionalComputing(dimension, totalLevel, datatype, buffer, threshold, -1)\n",
    "# with open('levelVector.pickle', 'rb') as f2:\n",
    "#     OCHDC.levelVector = pickle.load(f2)\n",
    "ClassHV = np.zeros(OCHDC.dim, dtype = OCHDC.datatype)\n",
    "s1 = time.time()\n",
    "trainHVs, testHVs = OCHDC.genHV(Xtrain, Xtest)\n",
    "s2 = time.time()\n",
    "oneClassHV = OCHDC.genClassHV(ClassHV, trainHVs)\n",
    "s3 = time.time()\n",
    "print('Encoding time' , s2 - s1, 'training time', s3 - s2)"
   ]
  },
  {
   "cell_type": "code",
   "execution_count": 6,
   "metadata": {},
   "outputs": [
    {
     "name": "stdout",
     "output_type": "stream",
     "text": [
      "0.9033249966657074\n",
      "OCHDC oneshot\n",
      "ACC =  0.8309859154929577\n",
      "AP =  0.5804690528492054\n",
      "F1-score =  0.7333333333333334\n",
      "ROC AUC =  0.863849765258216\n"
     ]
    }
   ],
   "source": [
    "testLabels = ytest\n",
    "prelimitation = OCHDC.fit(oneClassHV, trainHVs)\n",
    "a, b= 1, 1\n",
    "threshold = thresholdSelection(prelimitation, a, b)\n",
    "print(threshold)\n",
    "Oneshot_accuracy, guessList, confList = OCHDC.predict(oneClassHV, testHVs, testLabels, threshold)\n",
    "# Oneshot: inference without retraining\n",
    "acc = Oneshot_accuracy\n",
    "ap = average_precision_score(testLabels, guessList)\n",
    "f1score = f1_score(testLabels, guessList)\n",
    "rocauc = roc_auc_score(testLabels, guessList)\n",
    "print(\"OCHDC oneshot\")\n",
    "print('ACC = ', acc)\n",
    "print('AP = ', ap)\n",
    "print('F1-score = ', f1score)\n",
    "print('ROC AUC = ', rocauc)"
   ]
  },
  {
   "cell_type": "code",
   "execution_count": 7,
   "metadata": {},
   "outputs": [
    {
     "name": "stdout",
     "output_type": "stream",
     "text": [
      "epoch 0 mean distance 0.9063327459188816\n",
      "epoch 1 mean distance 0.9078270335802591\n",
      "epoch 2 mean distance 0.9078620892339405\n",
      "epoch 3 mean distance 0.9076075349929692\n",
      "epoch 4 mean distance 0.9073178865618124\n",
      "epoch 5 mean distance 0.9070711425910504\n",
      "epoch 6 mean distance 0.9068474554016746\n",
      "epoch 7 mean distance 0.9066594486818853\n",
      "epoch 8 mean distance 0.9064931290378152\n",
      "epoch 9 mean distance 0.9063498386974556\n",
      "retrain 2.9959843158721924\n"
     ]
    }
   ],
   "source": [
    "s = time.time()\n",
    "oneClass_retrain, threshold_retrain = OCHDC.reconfirm(oneClassHV, trainHVs, 10, threshold, 5, a, b)\n",
    "t = time.time()\n",
    "print('retrain', t - s)"
   ]
  },
  {
   "cell_type": "code",
   "execution_count": 8,
   "metadata": {},
   "outputs": [
    {
     "name": "stdout",
     "output_type": "stream",
     "text": [
      "OCHDC retrain\n",
      "ACC =  0.8943661971830986\n",
      "AP =  0.6939270028774799\n",
      "F1-score =  0.8170731707317074\n",
      "ROC AUC =  0.9107981220657277\n"
     ]
    }
   ],
   "source": [
    "prelimitation_retrain = OCHDC.fit(oneClass_retrain, trainHVs)\n",
    "threshold_retrain = thresholdSelection(prelimitation_retrain, a, b)\n",
    "retrain_accuracy, guessList, confList = OCHDC.predict(oneClass_retrain, testHVs, testLabels, threshold_retrain)\n",
    "# Retraining: Check all training HV before inference process\n",
    "acc2 = retrain_accuracy\n",
    "ap2 = average_precision_score(testLabels, guessList)\n",
    "f1score2 = f1_score(testLabels, guessList)\n",
    "rocauc2 = roc_auc_score(testLabels, guessList)\n",
    "print(\"OCHDC retrain\")\n",
    "print('ACC = ', acc2)\n",
    "print('AP = ', ap2)\n",
    "print('F1-score = ', f1score2)\n",
    "print('ROC AUC = ', rocauc2)"
   ]
  },
  {
   "cell_type": "code",
   "execution_count": null,
   "metadata": {},
   "outputs": [],
   "source": []
  }
 ],
 "metadata": {
  "kernelspec": {
   "display_name": "Python 3",
   "language": "python",
   "name": "python3"
  },
  "language_info": {
   "codemirror_mode": {
    "name": "ipython",
    "version": 3
   },
   "file_extension": ".py",
   "mimetype": "text/x-python",
   "name": "python",
   "nbconvert_exporter": "python",
   "pygments_lexer": "ipython3",
   "version": "3.8.3"
  }
 },
 "nbformat": 4,
 "nbformat_minor": 4
}
